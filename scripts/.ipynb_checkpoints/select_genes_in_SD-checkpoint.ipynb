{
 "cells": [
  {
   "cell_type": "code",
   "execution_count": null,
   "id": "053a34a2-6933-4343-ab93-aa8fb35125f0",
   "metadata": {},
   "outputs": [],
   "source": [
    "library(dplyr)\n",
    "library(tidyr)"
   ]
  },
  {
   "cell_type": "code",
   "execution_count": null,
   "id": "0b3f7aa6-4944-44d6-b468-6d4985bcc0c9",
   "metadata": {},
   "outputs": [],
   "source": [
    "HCT_Ctrl <- read.table(\"HCT116_supercoiling_data.100k.bg\", header = F)\n",
    "colnames(HCT_Ctrl) <- c('chrom', 'start', 'end', 'value')\n",
    "\n",
    "HCT.neg <- HCT_Ctrl %>%\n",
    "          filter(value > 0.15)\n",
    "HCT.pos <- HCT_Ctrl %>%\n",
    "          filter(value < -0.1)\n",
    "\n",
    "write.table(HCT.neg.position, file = \"HCT.neg.bdg\", quote=FALSE, row.names=FALSE, col.names=FALSE, sep = \"\\t\")\n",
    "write.table(HCT.pos.position, file = \"HCT.pos.bdg\", quote=FALSE, row.names=FALSE, col.names=FALSE, sep = \"\\t\")\n",
    "\n",
    "genome.coord <- get(load(\"hg38.ensembl.genebody.protein_coding.RData\"))\n",
    "head(genome.coord)\n",
    "\n",
    "\n",
    "\n",
    "\"\"\"\n",
    "bedtools merge -i HCT.neg.bdg > HCT_neg.bdg\n",
    "bedtools merge -i HCT.pos.bdg > HCT_pos.bdg\n",
    "\n",
    "bedtools intersect -a HCT_neg.bdg -b genes.bdg -wb > negative_genes.bdg\n",
    "bedtools intersect -a HCT_pos.bdg -b genes.bdg -wb > positive_genes.bdg\n",
    "\n",
    "\"\"\"\n",
    "\n",
    "negative_genes <- read.table(\"negative_genes.bdg\", header =F)\n",
    "positive_genes <- read.table(\"positive_genes.bdg\", header =F)\n",
    "neg_name <- negative_genes[,8, drop = FALSE]\n",
    "pos_name <- positive_genes[,8, drop = FALSE]\n",
    "\n",
    "\n",
    "#remove duplicate gene names\n",
    "negative_name <- neg_name %>% distinct(V8, .keep_all = TRUE)\n",
    "nrow(negative_name)\n",
    "positive_name <- pos_name %>% distinct(V8, .keep_all = TRUE)\n",
    "nrow(positive_name)"
   ]
  },
  {
   "cell_type": "code",
   "execution_count": null,
   "id": "ad4ce783-e046-4d3d-b465-4e28509b99b7",
   "metadata": {},
   "outputs": [],
   "source": [
    "# select active genes which TPM > 0.2, select gene length longer than 2kb\n",
    "active_genes <- readRDS(\"/data/yaoq2/TTseq/2nd/kallisto/select_genes.RData\")"
   ]
  },
  {
   "cell_type": "code",
   "execution_count": null,
   "id": "75919988-5e9f-4831-9107-68fe5d6e0748",
   "metadata": {},
   "outputs": [],
   "source": [
    "negative_domain_activegenes <- subset(negative_name, negative_genes$V8 %in% as.character(active_genes$SYMBOL))\n",
    "negative_domain_activegenes <- negative_domain_activegenes %>% distinct(V8, .keep_all = TRUE)\n",
    "dim(negative_domain_activegenes)\n",
    "\n",
    "positive_domain_activegenes <- subset(positive_name, positive_genes$V8 %in% as.character(active_genes$SYMBOL))\n",
    "positive_domain_activegenes <- positive_domain_activegenes %>% distinct(V8, .keep_all = TRUE)\n",
    "dim(positive_domain_activegenes)\n",
    "\n",
    "\n",
    "#add \"\" to each name, to fit ngsplot\n",
    "negative_domain_activegenes$V8 <- paste0(\"\\\"\", negative_domain_activegenes$V8, \"\\\"\")\n",
    "positive_domain_activegenes$V8 <- paste0(\"\\\"\", positive_domain_activegenes$V8, \"\\\"\")\n",
    "\n",
    "write.table(negative_domain_activegenes, file = \"neg_active_name.bdg\", quote=FALSE, row.names=FALSE, col.names=FALSE, sep = \"\\t\")\n",
    "write.table(positive_domain_activegenes, file = \"pos_active_name.bdg\", quote=FALSE, row.names=FALSE, col.names=FALSE, sep = \"\\t\")"
   ]
  }
 ],
 "metadata": {
  "kernelspec": {
   "display_name": "R/4.4",
   "language": "R",
   "name": "ir44"
  },
  "language_info": {
   "codemirror_mode": "r",
   "file_extension": ".r",
   "mimetype": "text/x-r-source",
   "name": "R",
   "pygments_lexer": "r",
   "version": "4.4.1"
  }
 },
 "nbformat": 4,
 "nbformat_minor": 5
}
