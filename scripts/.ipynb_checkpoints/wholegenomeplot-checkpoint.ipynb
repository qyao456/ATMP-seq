{
 "cells": [
  {
   "cell_type": "code",
   "execution_count": null,
   "id": "8bf0efb4-ba62-4809-b0ea-f78b9ae96f86",
   "metadata": {},
   "outputs": [],
   "source": [
    "library(stats4)\n",
    "library(BiocGenerics)\n",
    "library(parallel)\n",
    "library(GenomicRanges)\n",
    "library(rtracklayer)\n",
    "library(regioneR)\n",
    "library(karyoploteR)"
   ]
  },
  {
   "cell_type": "code",
   "execution_count": null,
   "id": "4ae4dfb7-698c-4544-a094-b21631935fed",
   "metadata": {},
   "outputs": [],
   "source": [
    "wg <- import(\"/data/supercoiling_data.bg\", format= \"bedGraph\")\n",
    "centromere <- toGRanges(\"cent.bed\")\n",
    "chrY <- toGRanges(data.frame(\"chrY\", 0, 57227415))\n",
    "empty1 <- toGRanges(data.frame(\"chr1\", 125000000, 143100000))\n",
    "empty2 <- toGRanges(data.frame(\"chr16\", 38300000, 46300000))\n",
    "empty3 <- toGRanges(data.frame(\"chr9\", 45500000, 60400000))"
   ]
  },
  {
   "cell_type": "code",
   "execution_count": null,
   "id": "0ca0d0c1-7f73-4cf4-b1d5-58c20b45134d",
   "metadata": {},
   "outputs": [],
   "source": [
    "pdf(\"figure/wholegenome.pdf\", width = 7.2, height = 9.6)\n",
    "\n",
    "kp <- plotKaryotype(plot.type = 6, main = \"Whole genome\", ideogram.plotter = NULL,\n",
    "                     cex=0.8)\n",
    "kpAddCytobandsAsLine(kp, lwd = 0.5)\n",
    "kpArea(kp, data = wg, y=wg$score, ymin=-0.5, ymax =0.5, cex = 0.3, \n",
    "        data.panel = \"ideogram\", col=\"royalblue3\", border=\"royalblue3\")\n",
    "#kpDataBackground(kp, color = \"#FFFFFFAA\")\n",
    "kpPlotRegions(kp, centromere, col=\"#FFFFFF\")\n",
    "kpPlotRegions(kp, chrY, col=\"#FFFFFF\")\n",
    "kpPlotRegions(kp, empty1, col=\"#FFFFFF\")\n",
    "kpPlotRegions(kp, empty2, col=\"#FFFFFF\")\n",
    "kpPlotRegions(kp, empty3, col=\"#FFFFFF\")\n",
    "dev.off()"
   ]
  }
 ],
 "metadata": {
  "kernelspec": {
   "display_name": "R/4.4",
   "language": "R",
   "name": "ir44"
  },
  "language_info": {
   "codemirror_mode": "r",
   "file_extension": ".r",
   "mimetype": "text/x-r-source",
   "name": "R",
   "pygments_lexer": "r",
   "version": "4.4.1"
  }
 },
 "nbformat": 4,
 "nbformat_minor": 5
}
